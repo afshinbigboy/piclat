{
 "cells": [
  {
   "cell_type": "markdown",
   "id": "865fb000",
   "metadata": {},
   "source": [
    "Developing a baseline for the fucking task. In this notebook, we are going to train a simple Resnet network to label each patch separately and the final decision makes by a majority voting."
   ]
  },
  {
   "cell_type": "code",
   "execution_count": 5,
   "id": "2fde3564",
   "metadata": {},
   "outputs": [],
   "source": [
    "import numpy as np\n",
    "import torch.nn as nn\n",
    "import torch.nn.functional as F\n",
    "import torch.optim as optim\n",
    "\n",
    "import os\n",
    "os.environ[\"CUDA_VISIBLE_DEVICES\"] = \"5\"\n",
    "import torch\n",
    "# from sklearn.model_selection import train_test_split\n",
    "import torch.optim as optim\n",
    "from torch.utils.data import Dataset, DataLoader\n",
    "import pandas as pd\n",
    "import glob\n",
    "import numpy as np\n",
    "import copy"
   ]
  },
  {
   "cell_type": "markdown",
   "id": "68b5e341",
   "metadata": {},
   "source": [
    "## Functions"
   ]
  },
  {
   "cell_type": "code",
   "execution_count": 16,
   "id": "2a384335",
   "metadata": {},
   "outputs": [],
   "source": [
    "class LymphomaDataset(Dataset):\n",
    "    \"\"\"\n",
    "    Dataset class for Lymphoma dataset\n",
    "    http://andrewjanowczyk.com/use-case-7-lymphoma-sub-type-classification/\n",
    "    \"\"\"\n",
    "    def __init__(self, patchpath_list):#, patch_size=36, step_size=32):\n",
    "        super(LymphomaDataset, self)\n",
    "        self.patchpath_list = patchpath_list\n",
    "#         self.patch_size = patch_size\n",
    "#         self.step_size  = step_size\n",
    "        \n",
    "        file_ids = [fp.split('/')[-1].split('.')[0] for fp in patchpath_list]\n",
    "        file_names = ['-'.join(fi.split('-')[1:]) for fi in file_ids]\n",
    "        file_classes = [fi.split('-')[0] for fi in file_ids]\n",
    "        \n",
    "        class_names = list(set(file_classes))\n",
    "        class_names = sorted(class_names)\n",
    "        class_labels = dict((name, i) for i, name in enumerate(class_names))\n",
    "        \n",
    "        self.class_labels = class_labels\n",
    "        self.file_names = file_names\n",
    "        self.X_path = patchpath_list\n",
    "        self.y = [class_labels[cn] for cn in file_classes]\n",
    "        \n",
    "        \n",
    "    def __getitem__(self, idx):\n",
    "        \n",
    "        x = imread(self.X_path[idx])\n",
    "        y = self.y[idx]\n",
    "        filename = self.file_names[idx]\n",
    "        classname = [k for k,v in self.class_labels if v==y][0]\n",
    "        \n",
    "        x = torch.tensor(x).permute(2,0,1)\n",
    "        y = torch.nn.functional.one_hot(torch.tensor(y), num_classes = len(self.class_labels))\n",
    "        \n",
    "        return {\n",
    "            'x': x,\n",
    "            'y': y,\n",
    "            'filename': filename,\n",
    "            'classname': classname\n",
    "        }\n",
    "    \n",
    "    def __len__(self):\n",
    "        return len(self.patchpath_list)"
   ]
  },
  {
   "cell_type": "markdown",
   "id": "efc5a1e8",
   "metadata": {},
   "source": [
    "### Model"
   ]
  },
  {
   "cell_type": "code",
   "execution_count": null,
   "id": "47f8e866",
   "metadata": {},
   "outputs": [],
   "source": [
    "class BaselineModel():\n",
    "    pass"
   ]
  },
  {
   "cell_type": "markdown",
   "id": "9fe398f2",
   "metadata": {},
   "source": [
    "## Global parameters"
   ]
  },
  {
   "cell_type": "code",
   "execution_count": 20,
   "id": "9b215ab8",
   "metadata": {},
   "outputs": [],
   "source": [
    "config = {\n",
    "    'batch_size_tr'    : 8,\n",
    "    'batch_size_val'   : 8,\n",
    "    'validation_split' : 0.2,\n",
    "    'pathces_dir'      : './patches/',\n",
    "    'test_size'        : 0.2,\n",
    "    'saved_model_path' : '',\n",
    "    'pretrained'       : False\n",
    "}"
   ]
  },
  {
   "cell_type": "code",
   "execution_count": 21,
   "id": "919a2e7d",
   "metadata": {},
   "outputs": [
    {
     "ename": "NameError",
     "evalue": "name 'train_test_split' is not defined",
     "output_type": "error",
     "traceback": [
      "\u001b[0;31m---------------------------------------------------------------------------\u001b[0m",
      "\u001b[0;31mNameError\u001b[0m                                 Traceback (most recent call last)",
      "\u001b[0;32m<ipython-input-21-b4186b10b0f4>\u001b[0m in \u001b[0;36m<module>\u001b[0;34m\u001b[0m\n\u001b[1;32m      1\u001b[0m \u001b[0mpatches_fp\u001b[0m \u001b[0;34m=\u001b[0m \u001b[0mglob\u001b[0m\u001b[0;34m.\u001b[0m\u001b[0mglob\u001b[0m\u001b[0;34m(\u001b[0m\u001b[0;34mf\"{config['pathces_dir']}*.tif\"\u001b[0m\u001b[0;34m)\u001b[0m\u001b[0;34m\u001b[0m\u001b[0;34m\u001b[0m\u001b[0m\n\u001b[1;32m      2\u001b[0m \u001b[0mpatches_fp\u001b[0m\u001b[0;34m.\u001b[0m\u001b[0msort\u001b[0m\u001b[0;34m(\u001b[0m\u001b[0;34m)\u001b[0m\u001b[0;34m\u001b[0m\u001b[0;34m\u001b[0m\u001b[0m\n\u001b[0;32m----> 3\u001b[0;31m \u001b[0mpsfp_train\u001b[0m\u001b[0;34m,\u001b[0m \u001b[0mpsfp_val\u001b[0m \u001b[0;34m=\u001b[0m \u001b[0mtrain_test_split\u001b[0m\u001b[0;34m(\u001b[0m\u001b[0mpatches_fp\u001b[0m\u001b[0;34m,\u001b[0m \u001b[0mtest_size\u001b[0m\u001b[0;34m=\u001b[0m\u001b[0mconfig\u001b[0m\u001b[0;34m[\u001b[0m\u001b[0;34m'validation_split'\u001b[0m\u001b[0;34m]\u001b[0m\u001b[0;34m,\u001b[0m \u001b[0mshuffle\u001b[0m\u001b[0;34m=\u001b[0m\u001b[0;32mTrue\u001b[0m\u001b[0;34m)\u001b[0m\u001b[0;34m\u001b[0m\u001b[0;34m\u001b[0m\u001b[0m\n\u001b[0m\u001b[1;32m      4\u001b[0m \u001b[0mtrain_dataset\u001b[0m \u001b[0;34m=\u001b[0m \u001b[0mLymphomaDataset\u001b[0m\u001b[0;34m(\u001b[0m\u001b[0mpsfp_train\u001b[0m\u001b[0;34m)\u001b[0m\u001b[0;34m\u001b[0m\u001b[0;34m\u001b[0m\u001b[0m\n\u001b[1;32m      5\u001b[0m \u001b[0mtrain_loader\u001b[0m  \u001b[0;34m=\u001b[0m \u001b[0mDataLoader\u001b[0m\u001b[0;34m(\u001b[0m\u001b[0mtrain_dataset\u001b[0m\u001b[0;34m,\u001b[0m \u001b[0mbatch_size\u001b[0m\u001b[0;34m=\u001b[0m\u001b[0mint\u001b[0m\u001b[0;34m(\u001b[0m\u001b[0mconfig\u001b[0m\u001b[0;34m[\u001b[0m\u001b[0;34m'batch_size_tr'\u001b[0m\u001b[0;34m]\u001b[0m\u001b[0;34m)\u001b[0m\u001b[0;34m,\u001b[0m \u001b[0mshuffle\u001b[0m\u001b[0;34m=\u001b[0m\u001b[0;32mTrue\u001b[0m\u001b[0;34m)\u001b[0m\u001b[0;34m\u001b[0m\u001b[0;34m\u001b[0m\u001b[0m\n",
      "\u001b[0;31mNameError\u001b[0m: name 'train_test_split' is not defined"
     ]
    }
   ],
   "source": [
    "patches_fp = glob.glob(f\"{config['pathces_dir']}*.tif\")\n",
    "patches_fp.sort()\n",
    "psfp_train, psfp_val = train_test_split(patches_fp, test_size=config['validation_split'], shuffle=True)\n",
    "train_dataset = LymphomaDataset(psfp_train)\n",
    "train_loader  = DataLoader(train_dataset, batch_size=int(config['batch_size_tr']), shuffle=True)\n",
    "val_dataset   = LymphomaDataset(psfp_val)\n",
    "val_loader    = DataLoader(val_dataset, batch_size=int(config['batch_size_va']), shuffle=True)"
   ]
  },
  {
   "cell_type": "code",
   "execution_count": null,
   "id": "3e7f0de8",
   "metadata": {},
   "outputs": [],
   "source": [
    "device = torch.device(\"cuda\" if torch.cuda.is_available() else \"cpu\")\n",
    "model = models.resnet50(pretrained=True)\n",
    "for param in model.parameters():\n",
    "    param.requires_grad = False\n",
    "    \n",
    "model.fc = nn.Sequential(nn.Linear(2048, 512),\n",
    "                                 nn.ReLU(),\n",
    "                                 nn.Dropout(0.2),\n",
    "                                 nn.Linear(512, 10),\n",
    "                                 nn.LogSoftmax(dim=1))\n",
    "criterion = nn.NLLLoss()\n",
    "optimizer = optim.Adam(model.fc.parameters(), lr=0.003)\n",
    "# optimizer = optim.RMSprop(Net.parameters(), lr= float(config['lr']), weight_decay=1e-8, momentum=0.9)\n",
    "\n",
    "scheduler = optim.lr_scheduler.ReduceLROnPlateau(optimizer, 'min')\n",
    "model.to(device)\n",
    "if int(pretrained=True):\n",
    "    model.load_state_dict(torch.load(saved_model_path, map_location='cpu')['model_weights'])"
   ]
  },
  {
   "cell_type": "markdown",
   "id": "f920318c",
   "metadata": {},
   "source": [
    "## Train"
   ]
  },
  {
   "cell_type": "code",
   "execution_count": null,
   "id": "ad9b1d94",
   "metadata": {},
   "outputs": [],
   "source": [
    "epochs = 1\n",
    "steps = 0\n",
    "running_loss = 0\n",
    "print_every = 10\n",
    "train_losses, test_losses = [], []\n",
    "for epoch in range(epochs):\n",
    "    for batch in train_loader:\n",
    "        inputs = batch['x']\n",
    "        labels = batch['y']\n",
    "        steps += 1\n",
    "        inputs, labels = inputs.to(device), labels.to(device)\n",
    "        optimizer.zero_grad()\n",
    "        logps = model.forward(inputs)\n",
    "        loss = criterion(logps, labels)\n",
    "        loss.backward()\n",
    "        optimizer.step()\n",
    "        running_loss += loss.item()\n",
    "        \n",
    "        if steps % print_every == 0:\n",
    "            test_loss = 0\n",
    "            accuracy = 0\n",
    "            model.eval()\n",
    "            with torch.no_grad():\n",
    "                for batch in test_loader:\n",
    "                    inputs = batch['x']\n",
    "                    labels = batch['y']\n",
    "                    inputs, labels = inputs.to(device), labels.to(device)\n",
    "                    logps = model.forward(inputs)\n",
    "                    batch_loss = criterion(logps, labels)\n",
    "                    test_loss += batch_loss.item()\n",
    "                    \n",
    "                    ps = torch.exp(logps)\n",
    "                    top_p, top_class = ps.topk(1, dim=1)\n",
    "                    equals = top_class == labels.view(*top_class.shape)\n",
    "                    accuracy += torch.mean(equals.type(torch.FloatTensor)).item()\n",
    "            train_losses.append(running_loss/len(trainloader))\n",
    "            test_losses.append(test_loss/len(testloader))                    \n",
    "            print(f\"Epoch {epoch+1}/{epochs}.. \"\n",
    "                  f\"Train loss: {running_loss/print_every:.3f}.. \"\n",
    "                  f\"Test loss: {test_loss/len(testloader):.3f}.. \"\n",
    "                  f\"Test accuracy: {accuracy/len(testloader):.3f}\")\n",
    "            running_loss = 0\n",
    "            model.train()\n",
    "torch.save(model, 'basemodel.pth')"
   ]
  },
  {
   "cell_type": "markdown",
   "id": "a35152b0",
   "metadata": {},
   "source": [
    "## Test"
   ]
  },
  {
   "cell_type": "code",
   "execution_count": null,
   "id": "cf5a3cc2",
   "metadata": {},
   "outputs": [],
   "source": []
  },
  {
   "cell_type": "code",
   "execution_count": null,
   "id": "1dcd05cb",
   "metadata": {},
   "outputs": [],
   "source": []
  }
 ],
 "metadata": {
  "kernelspec": {
   "display_name": "Python 3",
   "language": "python",
   "name": "python3"
  },
  "language_info": {
   "codemirror_mode": {
    "name": "ipython",
    "version": 3
   },
   "file_extension": ".py",
   "mimetype": "text/x-python",
   "name": "python",
   "nbconvert_exporter": "python",
   "pygments_lexer": "ipython3",
   "version": "3.9.7"
  }
 },
 "nbformat": 4,
 "nbformat_minor": 5
}
