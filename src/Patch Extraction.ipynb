{
 "cells": [
  {
   "cell_type": "markdown",
   "id": "6f42c927",
   "metadata": {},
   "source": [
    "Step 1: Patch Extraction (Python): extract patches from all images separated into the 3 sub-types"
   ]
  },
  {
   "cell_type": "code",
   "execution_count": 1,
   "id": "a32253c2",
   "metadata": {},
   "outputs": [],
   "source": [
    "import os\n",
    "import glob\n",
    "from tqdm.notebook import tqdm\n",
    "import numpy as np\n",
    "from imageio import imread, imwrite"
   ]
  },
  {
   "cell_type": "code",
   "execution_count": 19,
   "id": "68a30f9b",
   "metadata": {},
   "outputs": [],
   "source": [
    "indata_dir = \"./indir/\"\n",
    "outdir = \"./outdir/patches/\"\n",
    "# os.mkdir()\n",
    "\n",
    "step_size=32;\n",
    "patch_size=36; \n",
    "\n",
    "classes=['CLL','FL','MCL'];\n",
    "class_struct={};"
   ]
  },
  {
   "cell_type": "code",
   "execution_count": 15,
   "id": "ea824f11",
   "metadata": {},
   "outputs": [
    {
     "data": {
      "application/vnd.jupyter.widget-view+json": {
       "model_id": "00e58c3b397444728c2f6110d984ede2",
       "version_major": 2,
       "version_minor": 0
      },
      "text/plain": [
       "0it [00:00, ?it/s]"
      ]
     },
     "metadata": {},
     "output_type": "display_data"
    },
    {
     "data": {
      "application/vnd.jupyter.widget-view+json": {
       "model_id": "",
       "version_major": 2,
       "version_minor": 0
      },
      "text/plain": [
       "  0%|          | 0/113 [00:00<?, ?it/s]"
      ]
     },
     "metadata": {},
     "output_type": "display_data"
    },
    {
     "data": {
      "application/vnd.jupyter.widget-view+json": {
       "model_id": "",
       "version_major": 2,
       "version_minor": 0
      },
      "text/plain": [
       "  0%|          | 0/139 [00:00<?, ?it/s]"
      ]
     },
     "metadata": {},
     "output_type": "display_data"
    },
    {
     "data": {
      "application/vnd.jupyter.widget-view+json": {
       "model_id": "",
       "version_major": 2,
       "version_minor": 0
      },
      "text/plain": [
       "  0%|          | 0/122 [00:00<?, ?it/s]"
      ]
     },
     "metadata": {},
     "output_type": "display_data"
    }
   ],
   "source": [
    "data_X, data_y = [], []\n",
    "\n",
    "for i, cls in tqdm(enumerate(classes)):\n",
    "    files = glob.glob(f'{indata_dir}{cls}/*.tif')\n",
    "    files = sorted(files)\n",
    "    fids = [f\"{cls.upper()}-{fn.split('/')[-1].split('.')[0]}\" for fn in files]\n",
    "    \n",
    "    pbar = tqdm(fids, leave=False)\n",
    "    for fid in pbar:\n",
    "        fp = f\"{indata_dir}{cls}/{'-'.join(fid.split('-')[1:])}.tif\"\n",
    "        im = imread(fp)        \n",
    "        nrow, ncol, ndim = im.shape\n",
    "        sub_idx=0;\n",
    "        data_X_patches = []\n",
    "        for rr in range(0, nrow-patch_size, step_size):\n",
    "            for cc in range(0, ncol-patch_size, step_size):\n",
    "                for rot in [1, 2]:\n",
    "                    try:\n",
    "                        subim=im[rr:rr+patch_size,cc:cc+patch_size,:];\n",
    "                        for j in range(i-1):\n",
    "                            subim=np.rot90(subim)\n",
    "#                         subfname= f'{fid}_sub_{sub_idx:04d}.tif';\n",
    "#                         pbar.set_description(subfname)\n",
    "                        data_X_patches.append(subim)\n",
    "#                         data_y.append(i)\n",
    "#                         imwrite(f'{outdir}{subfname}', subim);\n",
    "                        sub_idx=sub_idx+1;\n",
    "                    except Exception as e:\n",
    "                        print(e)\n",
    "                        continue\n",
    "        data_X.append(np.array(data_X_patches))\n",
    "        data_y.append(i*np.ones(sub_idx, dtype=int))"
   ]
  },
  {
   "cell_type": "code",
   "execution_count": 18,
   "id": "84f18c35",
   "metadata": {},
   "outputs": [
    {
     "name": "stdout",
     "output_type": "stream",
     "text": [
      "Data shape X: (374, 2752, 36, 36, 3)\n",
      "Data shape y: (374, 2752)\n"
     ]
    }
   ],
   "source": [
    "np_X = np.array(data_X)\n",
    "np_y = np.array(data_y)\n",
    "print(f'Data shape X: {np_X.shape}\\nData shape y: {np_y.shape}')"
   ]
  },
  {
   "cell_type": "code",
   "execution_count": 20,
   "id": "22bc861c",
   "metadata": {},
   "outputs": [],
   "source": [
    "np.save('./data_numpy/patch_X', np_X)\n",
    "np.save('./data_numpy/patch_y', np_y)"
   ]
  },
  {
   "cell_type": "code",
   "execution_count": null,
   "id": "269b2ecf",
   "metadata": {},
   "outputs": [],
   "source": []
  }
 ],
 "metadata": {
  "kernelspec": {
   "display_name": "Python 3",
   "language": "python",
   "name": "python3"
  },
  "language_info": {
   "codemirror_mode": {
    "name": "ipython",
    "version": 3
   },
   "file_extension": ".py",
   "mimetype": "text/x-python",
   "name": "python",
   "nbconvert_exporter": "python",
   "pygments_lexer": "ipython3",
   "version": "3.9.7"
  }
 },
 "nbformat": 4,
 "nbformat_minor": 5
}
